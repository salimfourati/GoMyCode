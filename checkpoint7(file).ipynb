{
 "cells": [
  {
   "cell_type": "code",
   "execution_count": 63,
   "id": "57028033",
   "metadata": {},
   "outputs": [
    {
     "name": "stdout",
     "output_type": "stream",
     "text": [
      "['What is Python language?                                                \\n', 'Python is a widely used high-level, general-purpose, interpreted, dynamic programming language.Its design philosophy emphasizes code readability, and its syntax allows programmers to express concepts in fewer lines of code than possible in \\n', 'languages such as C++ or Java. \\n', 'Python supports multiple programming paradigms, including object-oriented, imperative and functional programming or procedural styles. It features a dynamic type system and automatic memory management and has a large and comprehensive standard library.The best way we learn anything is by practice and exercise questions. We  have started this section for those (beginner to intermediate) who are familiar with Python.']\n"
     ]
    }
   ],
   "source": [
    "#1\n",
    "f=open(\"python.txt\",'r')\n",
    "lignes=f.readlines()\n",
    "print(lignes)"
   ]
  },
  {
   "cell_type": "code",
   "execution_count": 75,
   "id": "67c00ad9",
   "metadata": {
    "scrolled": true
   },
   "outputs": [
    {
     "name": "stdout",
     "output_type": "stream",
     "text": [
      "saisir le nombre lignes3\n",
      "What is Python language?                                                \n",
      "\n",
      "Python is a widely used high-level, general-purpose, interpreted, dynamic programming language.Its design philosophy emphasizes code readability, and its syntax allows programmers to express concepts in fewer lines of code than possible in \n",
      "\n",
      "languages such as C++ or Java. \n",
      "\n"
     ]
    }
   ],
   "source": [
    "#2\n",
    "n=int(input(\"saisir le nombre lignes\"))\n",
    "for i in lignes[:n]:\n",
    "    print(i)"
   ]
  },
  {
   "cell_type": "code",
   "execution_count": 76,
   "id": "efd575e1",
   "metadata": {},
   "outputs": [
    {
     "name": "stdout",
     "output_type": "stream",
     "text": [
      "Python supports multiple programming paradigms, including object-oriented, imperative and functional programming or procedural styles. It features a dynamic type system and automatic memory management and has a large and comprehensive standard library.The best way we learn anything is by practice and exercise questions. We  have started this section for those (beginner to intermediate) who are familiar with Python.\n"
     ]
    }
   ],
   "source": [
    "#3\n",
    "for i in lignes[n:]:\n",
    "    print(i)"
   ]
  },
  {
   "cell_type": "code",
   "execution_count": 80,
   "id": "300032b4",
   "metadata": {},
   "outputs": [
    {
     "name": "stdout",
     "output_type": "stream",
     "text": [
      "nom de fichierpython.txt\n",
      "1\n"
     ]
    }
   ],
   "source": [
    "#4\n",
    "python=input(\"nom de fichier\")\n",
    "f=open(\"python.txt\",'r')\n",
    "nbr_mots=0\n",
    "\n",
    "    \n",
    "\n"
   ]
  },
  {
   "cell_type": "code",
   "execution_count": 87,
   "id": "19738e65",
   "metadata": {},
   "outputs": [],
   "source": [
    "nbr_mots=0"
   ]
  },
  {
   "cell_type": "code",
   "execution_count": 88,
   "id": "f0a8ef45",
   "metadata": {},
   "outputs": [],
   "source": [
    "for i in lignes :\n",
    "    s=i.split()\n",
    "    nbr_mots+=len(s)"
   ]
  },
  {
   "cell_type": "code",
   "execution_count": 89,
   "id": "9a25c290",
   "metadata": {},
   "outputs": [
    {
     "data": {
      "text/plain": [
       "100"
      ]
     },
     "execution_count": 89,
     "metadata": {},
     "output_type": "execute_result"
    }
   ],
   "source": [
    "nbr_mots"
   ]
  },
  {
   "cell_type": "code",
   "execution_count": null,
   "id": "6721f7d9",
   "metadata": {},
   "outputs": [],
   "source": []
  }
 ],
 "metadata": {
  "kernelspec": {
   "display_name": "Python 3",
   "language": "python",
   "name": "python3"
  },
  "language_info": {
   "codemirror_mode": {
    "name": "ipython",
    "version": 3
   },
   "file_extension": ".py",
   "mimetype": "text/x-python",
   "name": "python",
   "nbconvert_exporter": "python",
   "pygments_lexer": "ipython3",
   "version": "3.8.8"
  }
 },
 "nbformat": 4,
 "nbformat_minor": 5
}
