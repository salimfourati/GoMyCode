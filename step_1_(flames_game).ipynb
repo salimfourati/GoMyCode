{
 "cells": [
  {
   "cell_type": "code",
   "execution_count": 155,
   "metadata": {},
   "outputs": [],
   "source": [
    "def remove_match_char(list1,list2, rc=0):\n",
    "    n=len(list1)\n",
    "    m=len(list2)\n",
    "    tc=n+ m\n",
    "    for i in list1:\n",
    "        for j in list2:\n",
    "            if i==j:\n",
    "                c=i\n",
    "                rc+=2\n",
    "                list1.remove(c)\n",
    "                list2.remove(c)\n",
    "                lc=tc-rc\n",
    "    L3 = list1 + list2\n",
    "    return L3,lc\n",
    "list1=['A','J','A','Y']   \n",
    "list2=['P','R','I','Y','A']"
   ]
  },
  {
   "cell_type": "code",
   "execution_count": 156,
   "metadata": {},
   "outputs": [],
   "source": [
    "list1=['A','J','A','Y']   \n",
    "list2=['P','R','I','Y','A']\n",
    "L3,lc = remove_match_char(list1,list2)"
   ]
  },
  {
   "cell_type": "code",
   "execution_count": 149,
   "metadata": {},
   "outputs": [
    {
     "data": {
      "text/plain": [
       "5"
      ]
     },
     "execution_count": 149,
     "metadata": {},
     "output_type": "execute_result"
    }
   ],
   "source": [
    "lc"
   ]
  },
  {
   "cell_type": "code",
   "execution_count": 158,
   "metadata": {},
   "outputs": [
    {
     "name": "stdout",
     "output_type": "stream",
     "text": [
      "['J', 'A', 'P', 'R', 'I']\n"
     ]
    }
   ],
   "source": [
    "print(L3)"
   ]
  },
  {
   "cell_type": "code",
   "execution_count": 154,
   "metadata": {},
   "outputs": [
    {
     "name": "stdout",
     "output_type": "stream",
     "text": [
      "relationship is : Friends\n"
     ]
    }
   ],
   "source": [
    "L=['F','L','A','M','E','S']\n",
    "if lc>0:\n",
    "    LW=[\"Friends\",\"Love\",\"Affection\",\"Marriage\",\"Enemy\",\"Siblings\"]    \n",
    "    while len(LW)>1:\n",
    "        c=lc%len(LW)\n",
    "        s_index=c-1\n",
    "        if s_index>0:\n",
    "            left=LW[:s_index]\n",
    "            right=LW[s_index+1:]\n",
    "            LW=left+right\n",
    "        else:\n",
    "            LW=LW[:len(LW)-1]\n",
    "print(\"relationship is :\",LW[0])"
   ]
  },
  {
   "cell_type": "code",
   "execution_count": null,
   "metadata": {},
   "outputs": [],
   "source": []
  }
 ],
 "metadata": {
  "colab": {
   "collapsed_sections": [],
   "name": "step 1 (flames game).ipynb",
   "provenance": []
  },
  "kernelspec": {
   "display_name": "Python 3",
   "language": "python",
   "name": "python3"
  },
  "language_info": {
   "codemirror_mode": {
    "name": "ipython",
    "version": 3
   },
   "file_extension": ".py",
   "mimetype": "text/x-python",
   "name": "python",
   "nbconvert_exporter": "python",
   "pygments_lexer": "ipython3",
   "version": "3.8.8"
  }
 },
 "nbformat": 4,
 "nbformat_minor": 1
}
