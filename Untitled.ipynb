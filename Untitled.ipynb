{
 "cells": [
  {
   "cell_type": "code",
   "execution_count": 13,
   "id": "6f614937",
   "metadata": {},
   "outputs": [],
   "source": [
    "#QUESTION2\n",
    "def Max():\n",
    "    m=0\n",
    "    a=int(input(\"a:\"))\n",
    "    b=int(input(\"b:\"))\n",
    "    c=int(input(\"c:\"))\n",
    "    if a>b and a>c:\n",
    "        m=a\n",
    "    elif b>a and b>c : \n",
    "        m=b\n",
    "    else :\n",
    "        m=c\n",
    "    return m\n"
   ]
  },
  {
   "cell_type": "code",
   "execution_count": 14,
   "id": "1c5e99cb",
   "metadata": {},
   "outputs": [
    {
     "name": "stdout",
     "output_type": "stream",
     "text": [
      "a:1\n",
      "b:2\n",
      "c:3\n"
     ]
    },
    {
     "data": {
      "text/plain": [
       "3"
      ]
     },
     "execution_count": 14,
     "metadata": {},
     "output_type": "execute_result"
    }
   ],
   "source": [
    "Max()"
   ]
  },
  {
   "cell_type": "code",
   "execution_count": 15,
   "id": "103a1543",
   "metadata": {},
   "outputs": [],
   "source": [
    "#Question2\n",
    "def calculation(v1,v2):\n",
    "    a=v1+v2\n",
    "    s=v1-v2\n",
    "    return (a,s)"
   ]
  },
  {
   "cell_type": "code",
   "execution_count": 16,
   "id": "f685f65a",
   "metadata": {},
   "outputs": [
    {
     "data": {
      "text/plain": [
       "(50, 30)"
      ]
     },
     "execution_count": 16,
     "metadata": {},
     "output_type": "execute_result"
    }
   ],
   "source": [
    "calculation(40,10)"
   ]
  },
  {
   "cell_type": "code",
   "execution_count": 22,
   "id": "471e0034",
   "metadata": {},
   "outputs": [],
   "source": [
    "#question3 \n",
    "def sumlist(L):\n",
    "    L=[1,5,60,23,10]\n",
    "    tot=0\n",
    "    for i in L:\n",
    "        tot=tot+i\n",
    "    return tot\n",
    "    print(\"sum of list is\",sumlist(L))"
   ]
  },
  {
   "cell_type": "code",
   "execution_count": 26,
   "id": "db3bb80d",
   "metadata": {},
   "outputs": [
    {
     "data": {
      "text/plain": [
       "99"
      ]
     },
     "execution_count": 26,
     "metadata": {},
     "output_type": "execute_result"
    }
   ],
   "source": [
    "L=[1,5,60,23,10]\n",
    "sumlist(L)"
   ]
  },
  {
   "cell_type": "code",
   "execution_count": 33,
   "id": "e88e2708",
   "metadata": {},
   "outputs": [],
   "source": [
    "def Mlist(l):\n",
    "    l=[1,5,60,23,10]\n",
    "    tot1=0\n",
    "    for i in l :\n",
    "        tot1=tot1*i\n",
    "    return tot1\n",
    "    print(\"multiple of list is\",tot1)"
   ]
  },
  {
   "cell_type": "code",
   "execution_count": 37,
   "id": "c12a0441",
   "metadata": {},
   "outputs": [
    {
     "data": {
      "text/plain": [
       "0"
      ]
     },
     "execution_count": 37,
     "metadata": {},
     "output_type": "execute_result"
    }
   ],
   "source": [
    "l=[1,5,60,23,10]\n",
    "Mlist(l)"
   ]
  },
  {
   "cell_type": "code",
   "execution_count": 48,
   "id": "2984cec8",
   "metadata": {},
   "outputs": [
    {
     "name": "stdout",
     "output_type": "stream",
     "text": [
      "green-red-yellow-black-white\n",
      "['black', 'green', 'red', 'white', 'yellow']\n"
     ]
    }
   ],
   "source": [
    "#QUESTION4\n",
    "L=[i for i in input().split('-')]\n",
    "LS=sorted(L)\n",
    "print(LS)"
   ]
  },
  {
   "cell_type": "code",
   "execution_count": null,
   "id": "e1fa38c3",
   "metadata": {},
   "outputs": [],
   "source": [
    "       "
   ]
  },
  {
   "cell_type": "code",
   "execution_count": 50,
   "id": "45919882",
   "metadata": {},
   "outputs": [],
   "source": [
    "import math"
   ]
  },
  {
   "cell_type": "code",
   "execution_count": 87,
   "id": "b71dcd38",
   "metadata": {},
   "outputs": [],
   "source": [
    "def squareroot(L):\n",
    "    D=input('add the D:')\n",
    "    C=50\n",
    "    H=30   \n",
    "    #for i in D:\n",
    "    Q=round(math.sqrt((2 * C * int(D))/H))\n",
    "    return Q"
   ]
  },
  {
   "cell_type": "code",
   "execution_count": 88,
   "id": "17a93a76",
   "metadata": {},
   "outputs": [
    {
     "name": "stdout",
     "output_type": "stream",
     "text": [
      "add the D:20\n"
     ]
    },
    {
     "data": {
      "text/plain": [
       "8"
      ]
     },
     "execution_count": 88,
     "metadata": {},
     "output_type": "execute_result"
    }
   ],
   "source": [
    "L=[100,150,180]\n",
    "squareroot(L)"
   ]
  },
  {
   "cell_type": "code",
   "execution_count": null,
   "id": "898497b9",
   "metadata": {},
   "outputs": [],
   "source": []
  }
 ],
 "metadata": {
  "kernelspec": {
   "display_name": "Python 3",
   "language": "python",
   "name": "python3"
  },
  "language_info": {
   "codemirror_mode": {
    "name": "ipython",
    "version": 3
   },
   "file_extension": ".py",
   "mimetype": "text/x-python",
   "name": "python",
   "nbconvert_exporter": "python",
   "pygments_lexer": "ipython3",
   "version": "3.8.8"
  }
 },
 "nbformat": 4,
 "nbformat_minor": 5
}
