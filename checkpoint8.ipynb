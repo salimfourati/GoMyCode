{
 "cells": [
  {
   "cell_type": "code",
   "execution_count": 14,
   "id": "ed8790b2",
   "metadata": {},
   "outputs": [
    {
     "data": {
      "text/plain": [
       "'e is found'"
      ]
     },
     "execution_count": 14,
     "metadata": {},
     "output_type": "execute_result"
    }
   ],
   "source": [
    "#1\n",
    "def binary_search(A,d,f,e):\n",
    "    if f>=d:\n",
    "        mid = int(d +(f - d)/2)\n",
    "        if A[mid] == e:\n",
    "            return'e is found'\n",
    "        elif A[mid]> e:\n",
    "            return binary_search(A,d,mid-1,e)\n",
    "        else:\n",
    "            return binary_search(A, mid+1,f, e)\n",
    "    else:\n",
    "        return 'e is not found'\n",
    "\n",
    "A=[1,2,3,5,8]\n",
    "e=5;d=0; f=len(A)-1;\n",
    "binary_search(A,d,f,e)"
   ]
  },
  {
   "cell_type": "code",
   "execution_count": 16,
   "id": "c9391679",
   "metadata": {},
   "outputs": [
    {
     "data": {
      "text/plain": [
       "'e is not found'"
      ]
     },
     "execution_count": 16,
     "metadata": {},
     "output_type": "execute_result"
    }
   ],
   "source": [
    "e=6\n",
    "binary_search(A,d,f,e)"
   ]
  },
  {
   "cell_type": "code",
   "execution_count": 20,
   "id": "b8e098b8",
   "metadata": {},
   "outputs": [],
   "source": [
    "#2\n",
    "def power(a,b):\n",
    "    return a**b"
   ]
  },
  {
   "cell_type": "code",
   "execution_count": 21,
   "id": "99395175",
   "metadata": {},
   "outputs": [
    {
     "data": {
      "text/plain": [
       "81"
      ]
     },
     "execution_count": 21,
     "metadata": {},
     "output_type": "execute_result"
    }
   ],
   "source": [
    "power(3,4)"
   ]
  },
  {
   "cell_type": "code",
   "execution_count": 31,
   "id": "637898fc",
   "metadata": {},
   "outputs": [
    {
     "data": {
      "text/plain": [
       "[14, 43, 27, 46, 41, 45, 21, 57, 70]"
      ]
     },
     "execution_count": 31,
     "metadata": {},
     "output_type": "execute_result"
    }
   ],
   "source": [
    "#3\n",
    "def bubbleSort(A):\n",
    "    for i in range(len(A)-1):\n",
    "        if A[i]>A[i+1]:\n",
    "            A[i],A[i+1]=A[i+1],A[i]\n",
    "    return  A\n",
    "A=[14,46,43,27,57,41,45,21,70]\n",
    "bubbleSort(A)"
   ]
  },
  {
   "cell_type": "code",
   "execution_count": 33,
   "id": "d3b1f5fe",
   "metadata": {},
   "outputs": [
    {
     "data": {
      "text/plain": [
       "[13, 22, 29, 37, 46, 49, 52, 56, 71]"
      ]
     },
     "execution_count": 33,
     "metadata": {},
     "output_type": "execute_result"
    }
   ],
   "source": [
    "#4\n",
    "def mergeSort(A):\n",
    "    for i in range(1,len(A)):\n",
    "        elt=A[i]\n",
    "        m=i-1\n",
    "        while m>=0 and A[m]>elt:\n",
    "            A[m+1]=A[m]\n",
    "            m-=1\n",
    "            A[m+1]=elt\n",
    "    return A\n",
    "A=[29,13,22,37,52,49,46,71,56]\n",
    "mergeSort(A)"
   ]
  },
  {
   "cell_type": "code",
   "execution_count": 34,
   "id": "7e11bf2a",
   "metadata": {},
   "outputs": [
    {
     "data": {
      "text/plain": [
       "[13, 22, 29, 37, 46, 49, 52, 56, 71]"
      ]
     },
     "execution_count": 34,
     "metadata": {},
     "output_type": "execute_result"
    }
   ],
   "source": [
    "#5\n",
    "def quickSort(A):\n",
    "    if len(A)==0 or len(A)==1:return A\n",
    "    else:\n",
    "        n=A[len(A)//2]\n",
    "        m=A.count(n)\n",
    "        L1=[];L2=[]\n",
    "        for i in A:\n",
    "            if i<n: L1.append(i)\n",
    "            elif i>n: L2.append(i)\n",
    "        L1=quickSort(L1)\n",
    "        L2=quickSort(L2)\n",
    "    return(L1+[n for i in range(m)]+L2)\n",
    "A=[29,13,22,37,52,49,46,71,56]\n",
    "quickSort(A)"
   ]
  },
  {
   "cell_type": "code",
   "execution_count": null,
   "id": "551f9708",
   "metadata": {},
   "outputs": [],
   "source": []
  }
 ],
 "metadata": {
  "kernelspec": {
   "display_name": "Python 3",
   "language": "python",
   "name": "python3"
  },
  "language_info": {
   "codemirror_mode": {
    "name": "ipython",
    "version": 3
   },
   "file_extension": ".py",
   "mimetype": "text/x-python",
   "name": "python",
   "nbconvert_exporter": "python",
   "pygments_lexer": "ipython3",
   "version": "3.8.8"
  }
 },
 "nbformat": 4,
 "nbformat_minor": 5
}
