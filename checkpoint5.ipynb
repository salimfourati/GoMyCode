{
 "cells": [
  {
   "cell_type": "code",
   "execution_count": 14,
   "id": "121f648f",
   "metadata": {},
   "outputs": [
    {
     "name": "stdout",
     "output_type": "stream",
     "text": [
      "[1, 2, 3]\n"
     ]
    }
   ],
   "source": [
    "#Question1\n",
    "import numpy as np \n",
    "a=np.array([1,2,3])\n",
    "L=a.tolist()\n",
    "print(L)"
   ]
  },
  {
   "cell_type": "code",
   "execution_count": 17,
   "id": "51e79ade",
   "metadata": {},
   "outputs": [
    {
     "name": "stdout",
     "output_type": "stream",
     "text": [
      "176\n"
     ]
    }
   ],
   "source": [
    "#QUESTION2\n",
    "import numpy as np\n",
    "a=np.array([[55, 20, 10],\n",
    "            [38, 44, 12],\n",
    "            [11, 45, 77]])\n",
    "s=np.trace(a)\n",
    "print(s)"
   ]
  },
  {
   "cell_type": "code",
   "execution_count": 26,
   "id": "d37147d3",
   "metadata": {},
   "outputs": [
    {
     "name": "stdout",
     "output_type": "stream",
     "text": [
      "add a value23\n",
      "[38, 44, 45, 77]\n"
     ]
    }
   ],
   "source": [
    "#QUESTION3\n",
    "import numpy as np \n",
    "a=np.array([[38, 44, 12],\n",
    "           [11, 45, 77]])\n",
    "L=[]\n",
    "x=int(input(\"add a value\"))\n",
    "for i in range((a.shape[0])):\n",
    "    for j in range(a.shape[1]):    \n",
    "        if a[i,j]>x:\n",
    "            L.append(a[i,j])\n",
    "print(L)"
   ]
  },
  {
   "cell_type": "code",
   "execution_count": 20,
   "id": "a83b035c",
   "metadata": {},
   "outputs": [
    {
     "data": {
      "text/plain": [
       "(2, 3)"
      ]
     },
     "execution_count": 20,
     "metadata": {},
     "output_type": "execute_result"
    }
   ],
   "source": [
    "a.shape"
   ]
  },
  {
   "cell_type": "code",
   "execution_count": 28,
   "id": "0e893246",
   "metadata": {},
   "outputs": [
    {
     "name": "stdout",
     "output_type": "stream",
     "text": [
      "[ 56 141  71]\n"
     ]
    }
   ],
   "source": [
    "#QUESTION4\n",
    "import numpy as np\n",
    "A=np.array([13,45,24])\n",
    "B=np.array([43,96,47])\n",
    "C=np.add(A,B)\n",
    "print(C)"
   ]
  },
  {
   "cell_type": "code",
   "execution_count": 29,
   "id": "70c30fff",
   "metadata": {},
   "outputs": [
    {
     "name": "stdout",
     "output_type": "stream",
     "text": [
      "[ 56 141  71]\n"
     ]
    }
   ],
   "source": [
    "#METHOD 2\n",
    "C=A+B\n",
    "print(C)"
   ]
  },
  {
   "cell_type": "code",
   "execution_count": 68,
   "id": "cfa1da7b",
   "metadata": {},
   "outputs": [
    {
     "name": "stdout",
     "output_type": "stream",
     "text": [
      "[7.666666666666667, 7.333333333333333, 25.0]\n"
     ]
    }
   ],
   "source": [
    "#QUESTION5\n",
    "import numpy as np\n",
    "A=np.array([[2,4,17],\n",
    "           [3,7,12],\n",
    "           [6,44,25]])\n",
    "L=[]\n",
    "for i in range((A.shape[0])):\n",
    "    X=np.mean(A[i])\n",
    "    L.append(X)\n",
    "print(L)\n",
    "s=np.array(L)"
   ]
  },
  {
   "cell_type": "code",
   "execution_count": 69,
   "id": "9091b1be",
   "metadata": {},
   "outputs": [
    {
     "name": "stdout",
     "output_type": "stream",
     "text": [
      "[[ -5.66666667  -3.33333333  -8.        ]\n",
      " [ -4.66666667  -0.33333333 -13.        ]\n",
      " [ -1.66666667  36.66666667   0.        ]]\n"
     ]
    }
   ],
   "source": [
    "for i in range(A.shape[0]):\n",
    "    A1=A-s\n",
    "print(A1)"
   ]
  },
  {
   "cell_type": "code",
   "execution_count": null,
   "id": "27c27623",
   "metadata": {},
   "outputs": [],
   "source": []
  }
 ],
 "metadata": {
  "kernelspec": {
   "display_name": "Python 3",
   "language": "python",
   "name": "python3"
  },
  "language_info": {
   "codemirror_mode": {
    "name": "ipython",
    "version": 3
   },
   "file_extension": ".py",
   "mimetype": "text/x-python",
   "name": "python",
   "nbconvert_exporter": "python",
   "pygments_lexer": "ipython3",
   "version": "3.8.8"
  }
 },
 "nbformat": 4,
 "nbformat_minor": 5
}
