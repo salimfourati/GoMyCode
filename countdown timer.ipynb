{
 "cells": [
  {
   "cell_type": "code",
   "execution_count": 1,
   "id": "42b99543",
   "metadata": {},
   "outputs": [],
   "source": [
    "import time\n",
    "def countdown(t):\n",
    "    while t>=0:\n",
    "        mins,secs=divmod(t,60)\n",
    "        timeformat='{:02d}:{:02d}'.format(mins,secs)\n",
    "        print(timeformat,end=\"\\r\")\n",
    "        time.sleep(1)\n",
    "        t-=1\n",
    "    print('fire in the hole ')\n",
    "        \n",
    "        \n",
    "        \n",
    "    "
   ]
  },
  {
   "cell_type": "code",
   "execution_count": 130,
   "id": "3d3c4089",
   "metadata": {},
   "outputs": [
    {
     "name": "stdout",
     "output_type": "stream",
     "text": [
      "add the lenghth of the countdownn seconds:10\n",
      "fire in the hole \n"
     ]
    }
   ],
   "source": [
    "t=int(input(\"add the lenghth of the countdownn seconds:\"))\n",
    "countdown(t)"
   ]
  },
  {
   "cell_type": "code",
   "execution_count": 117,
   "id": "f1c1b107",
   "metadata": {},
   "outputs": [
    {
     "data": {
      "text/plain": [
       "(0, 9)"
      ]
     },
     "execution_count": 117,
     "metadata": {},
     "output_type": "execute_result"
    }
   ],
   "source": [
    "divmod(9,60)"
   ]
  }
 ],
 "metadata": {
  "kernelspec": {
   "display_name": "Python 3",
   "language": "python",
   "name": "python3"
  },
  "language_info": {
   "codemirror_mode": {
    "name": "ipython",
    "version": 3
   },
   "file_extension": ".py",
   "mimetype": "text/x-python",
   "name": "python",
   "nbconvert_exporter": "python",
   "pygments_lexer": "ipython3",
   "version": "3.8.8"
  }
 },
 "nbformat": 4,
 "nbformat_minor": 5
}
