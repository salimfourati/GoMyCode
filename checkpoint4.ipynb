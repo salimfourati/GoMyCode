{
 "cells": [
  {
   "cell_type": "code",
   "execution_count": 5,
   "id": "92b5e127",
   "metadata": {
    "scrolled": true
   },
   "outputs": [
    {
     "name": "stdout",
     "output_type": "stream",
     "text": [
      "(1, 2, 3)\n"
     ]
    }
   ],
   "source": [
    "#1\n",
    "class point3D:\n",
    "    def __init__(self, x, y, z):\n",
    "        self.x = x\n",
    "        self.y = y\n",
    "        self.z = z\n",
    "    def __repr__(self):\n",
    "        return \"(%d, %d, %d)\" % (self.x, self.y, self.z)\n",
    "my_point = point3D(1,2,3)\n",
    "print (my_point)"
   ]
  },
  {
   "cell_type": "code",
   "execution_count": 14,
   "id": "2d1ac5db",
   "metadata": {},
   "outputs": [],
   "source": [
    "#2\n",
    "class rectangle:\n",
    "    def __init__(self,L,W):\n",
    "        self.L=L\n",
    "        self.W=W\n",
    "    def area(self):\n",
    "        area = (self.L)*(self.W)\n",
    "        return\"the area is {}\".format(area)\n",
    "    def perimeter(self):\n",
    "        perimeter=(self.L+self.W)*2\n",
    "        return\"the perimeter is{}\".format(perimeter)\n",
    "my_rectangle=rectangle(4,3)"
   ]
  },
  {
   "cell_type": "code",
   "execution_count": 15,
   "id": "81ac209d",
   "metadata": {},
   "outputs": [
    {
     "data": {
      "text/plain": [
       "'the area is 12'"
      ]
     },
     "execution_count": 15,
     "metadata": {},
     "output_type": "execute_result"
    }
   ],
   "source": [
    "my_rectangle.area()"
   ]
  },
  {
   "cell_type": "code",
   "execution_count": 16,
   "id": "5e1364fe",
   "metadata": {},
   "outputs": [
    {
     "data": {
      "text/plain": [
       "'the perimeter is14'"
      ]
     },
     "execution_count": 16,
     "metadata": {},
     "output_type": "execute_result"
    }
   ],
   "source": [
    "my_rectangle.perimeter()"
   ]
  },
  {
   "cell_type": "code",
   "execution_count": 29,
   "id": "4c0684fc",
   "metadata": {},
   "outputs": [],
   "source": [
    "#3\n",
    "import math\n",
    "class circle:\n",
    "    def __init__(self,O,r):\n",
    "        self.O=O\n",
    "        self.r=r\n",
    "    def area(self):\n",
    "        area = (math.pi*(self.r)**2)\n",
    "        return\"the area is {}\".format(area)\n",
    "    def perimeter(self):\n",
    "        perimeter=(2*math.pi*self.r)\n",
    "        return\"the perimeter is{}\".format(perimeter)\n",
    "    def isinside(self,Xc,Yc,r,x,y):\n",
    "        if ((x - Xc)**2 +(y - Yc)**2<= r*r):\n",
    "            return(\"inside\")\n",
    "        else:\n",
    "            return(\"outside\")\n",
    "c=circle(0,2)\n"
   ]
  },
  {
   "cell_type": "code",
   "execution_count": 30,
   "id": "19a98ed3",
   "metadata": {},
   "outputs": [
    {
     "data": {
      "text/plain": [
       "'the area is 12.566370614359172'"
      ]
     },
     "execution_count": 30,
     "metadata": {},
     "output_type": "execute_result"
    }
   ],
   "source": [
    "c.area()"
   ]
  },
  {
   "cell_type": "code",
   "execution_count": 31,
   "id": "bf310970",
   "metadata": {},
   "outputs": [
    {
     "data": {
      "text/plain": [
       "'the perimeter is12.566370614359172'"
      ]
     },
     "execution_count": 31,
     "metadata": {},
     "output_type": "execute_result"
    }
   ],
   "source": [
    "c.perimeter()"
   ]
  },
  {
   "cell_type": "code",
   "execution_count": 32,
   "id": "8c68e1c6",
   "metadata": {},
   "outputs": [
    {
     "data": {
      "text/plain": [
       "'outside'"
      ]
     },
     "execution_count": 32,
     "metadata": {},
     "output_type": "execute_result"
    }
   ],
   "source": [
    "c.isinside(2,2,2,0,1)"
   ]
  },
  {
   "cell_type": "code",
   "execution_count": null,
   "id": "be905f2e",
   "metadata": {},
   "outputs": [],
   "source": [
    "#4\n",
    "class Bank:\n",
    "    def __init __(self,balance):\n",
    "        self.balance=0\n",
    "    def deposit(self):\n",
    "        amount=float(input(\"enter the amount\")\n",
    "        self.balance+=amount\n",
    "        print(\"amount deposit\",amount)\n",
    "    def withdraw(self):\n",
    "        withdraw=float(input(\"enter the withdraw\")\n",
    "                       if self.balance>=amount:\n",
    "    \n",
    "            \n",
    "                         "
   ]
  },
  {
   "cell_type": "code",
   "execution_count": 44,
   "id": "ebfc0c2e",
   "metadata": {},
   "outputs": [],
   "source": [
    "class Bank:\n",
    "    def __init__(self,balance=0):\n",
    "        self.balance=balance\n",
    "    def deposit(self, amount):\n",
    "        self.balance+=amount\n",
    "        print(\"amount deposit\",amount)\n",
    "    def withdraw(self, amount):\n",
    "        if self.balance>amount:\n",
    "                     self.balance-=amount\n",
    "                     print(\"the withdraw:\",amount)\n",
    "        else:\n",
    "                     print(\"balance insuffisant\")\n",
    "b=Bank()\n",
    "\n",
    "                     \n",
    "                       \n",
    "                      \n",
    "                     \n",
    "        "
   ]
  },
  {
   "cell_type": "code",
   "execution_count": 45,
   "id": "f1b48039",
   "metadata": {},
   "outputs": [
    {
     "name": "stdout",
     "output_type": "stream",
     "text": [
      "amount deposit 67\n"
     ]
    }
   ],
   "source": [
    "\n",
    "b.deposit(67)"
   ]
  },
  {
   "cell_type": "code",
   "execution_count": null,
   "id": "8d201053",
   "metadata": {},
   "outputs": [],
   "source": []
  }
 ],
 "metadata": {
  "kernelspec": {
   "display_name": "Python 3",
   "language": "python",
   "name": "python3"
  },
  "language_info": {
   "codemirror_mode": {
    "name": "ipython",
    "version": 3
   },
   "file_extension": ".py",
   "mimetype": "text/x-python",
   "name": "python",
   "nbconvert_exporter": "python",
   "pygments_lexer": "ipython3",
   "version": "3.8.8"
  }
 },
 "nbformat": 4,
 "nbformat_minor": 5
}
